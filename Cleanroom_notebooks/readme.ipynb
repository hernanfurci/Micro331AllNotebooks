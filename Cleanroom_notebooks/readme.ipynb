{
 "cells": [
  {
   "cell_type": "markdown",
   "metadata": {},
   "source": [
    "# READ ME\n"
   ]
  },
  {
   "cell_type": "markdown",
   "metadata": {},
   "source": [
    "Welcome to the jupyter notebooks on microfabrication. Before you start here is a quick guide on how to navigate the notebooks and use python.\n",
    "<br>\n",
    "If you are familiar with jupyter notebooks you can skip the notebook tutorial."
   ]
  },
  {
   "cell_type": "markdown",
   "metadata": {},
   "source": [
    "## *Notebook Tutorial*\n",
    "### Cells:\n",
    "Jupyter Notebooks are a special type of files which allow you to run python code in \"cells\" while running a kernel for the whole notebook. \n",
    "<br>\n",
    "The cell you are reading now is a `Markdown`, it is meant to have text in it and can be in between two `Code` cells.\n",
    "\n",
    "### Running a cell:\n",
    "To run a cell (markdown or code), you can use the \"Shift + Maj\" command or the play button in the top of the interface.\n",
    "<br>\n",
    "The output of the code cells which show up bellow the cell. \n",
    "<br>\n",
    "For the exercices please run the cells in a descending order. If you forget to run a cell prior to the one you run, it might lead to an error. "
   ]
  },
  {
   "cell_type": "markdown",
   "metadata": {},
   "source": [
    "This is a Markdown cell"
   ]
  },
  {
   "cell_type": "code",
   "execution_count": null,
   "metadata": {},
   "outputs": [],
   "source": [
    "import numpy as np\n",
    "a = 10 \n",
    "\n",
    "print(f\"\"\"This is a Code cell\n",
    "      Here is the result of an operation : {np.sqrt(a)}\n",
    "      \"\"\")"
   ]
  },
  {
   "cell_type": "markdown",
   "metadata": {},
   "source": [
    "The memory is common through the different cells. This allows you to split your code and instead of having to run all of it."
   ]
  },
  {
   "cell_type": "code",
   "execution_count": null,
   "metadata": {},
   "outputs": [],
   "source": [
    "print(a)"
   ]
  },
  {
   "cell_type": "markdown",
   "metadata": {},
   "source": [
    "### Kernel:\n",
    "The noto interface you are in allows you to run multiple kernels at the same time. Sometimes you might have some errors or glitches in the code, we recommand you to restart the kernel when doing so as it will clean the workspace memory.\n",
    "\n",
    "### Files:\n",
    "You can navigate around the different files with the menue on the left. When you clicked on the link to access the folder. It was saved on your noto account. Now any modification will be saved here for the future.\n",
    "\n",
    "<img src=\"noto_interface.JPG\">\n",
    "\n",
    "### Interface:\n",
    "For more information on the noto interface please refer to the following link: https://jupyterlab.readthedocs.io/en/stable/user/interface.html\n",
    "\n",
    "## *Microfabrication notebooks*\n",
    "This series of notebooks is intended as a support of the microfabrication class MICRO-331, to provide additional ressources relative to the cleanroom processes. It is intended as a bridge between the theory you see in the class and the lab experience you have in the cleanrooms. \n",
    "<br>\n",
    "It is composed of different notebooks each located in a specific folder. Five of them are intended as exercises concentrated on one single type of process. The ones called "main" is intended as an exercise to understand how to establish a process flow with many sup-processes in a logical order, and determining specific parameters for each step to achieve a given specification. \n",
    "You can navigate though the notebooks with the menue on your left or with the following links.\n",
    "<br>\n",
    "* [Etching](etching/etching_notebook.ipynb)\n",
    "* [Main](main/main.ipynb)\n",
    "* [Oxidation](oxidation/oxidation_notebook.ipynb)\n",
    "* [Photolithography](photolithography/litho_notebook.ipynb)\n",
    "* [Spin Coating](spin_coating/spin_coating_notebook.ipynb)\n",
    "* [Thin Film](thin_film/thin_film_notebook.ipynb)\n",
    "<br>\n",
    "To start the device fabrication notebook please go to the main folder and then to the main.ipynb file. "
   ]
  },
  {
   "cell_type": "code",
   "execution_count": null,
   "metadata": {},
   "outputs": [],
   "source": []
  }
 ],
 "metadata": {
  "kernelspec": {
   "display_name": "Python",
   "language": "python",
   "name": "python3"
  },
  "language_info": {
   "codemirror_mode": {
    "name": "ipython",
    "version": 3
   },
   "file_extension": ".py",
   "mimetype": "text/x-python",
   "name": "python",
   "nbconvert_exporter": "python",
   "pygments_lexer": "ipython3",
   "version": "3.8.10"
  }
 },
 "nbformat": 4,
 "nbformat_minor": 4
}
